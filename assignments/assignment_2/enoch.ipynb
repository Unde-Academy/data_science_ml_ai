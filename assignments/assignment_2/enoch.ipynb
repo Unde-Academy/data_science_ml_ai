
#Python program that can take a password as input and reverse it

def rev_pass(password):
    return password[::-1]

password = input("Enter your password: ")

reversed_password = rev_pass(password)

print("Reversed Password:", reversed_password)
