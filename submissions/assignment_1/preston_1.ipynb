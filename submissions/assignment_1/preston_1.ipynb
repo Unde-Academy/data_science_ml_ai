{
 "cells": [
  {
   "cell_type": "code",
   "execution_count": null,
   "metadata": {},
   "outputs": [],
   "source": [
    "def calculate_cylinder_volume(radius, height):\n",
    "    \"\"\"\n",
    "    Calculate the volume of a cylinder.\n",
    "\n",
    "    Parameters:\n",
    "        radius (float): The radius of the cylinder's base.\n",
    "        height (float): The height of the cylinder.\n",
    "\n",
    "    Returns:\n",
    "        float: The volume of the cylinder.\n",
    "    \"\"\"\n",
    "    pi = 3.142\n",
    "    volume = pi * (radius ** 2) * height\n",
    "    return volume\n",
    "radius = 5\n",
    "height = 10\n",
    "volume = calculate_cylinder_volume(radius, height)\n",
    "print(f\"The volume of the cylinder is: {volume}\")"
   ]
  }
 ],
 "metadata": {
  "language_info": {
   "name": "python"
  }
 },
 "nbformat": 4,
 "nbformat_minor": 2
}
